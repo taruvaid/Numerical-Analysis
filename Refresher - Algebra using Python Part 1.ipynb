{
 "cells": [
  {
   "cell_type": "code",
   "execution_count": 1,
   "id": "5e395e4f",
   "metadata": {},
   "outputs": [],
   "source": [
    "#### Solving for x\n",
    "# homogenous form : ax + b - c = 0. Many functions require this form\n",
    "\n",
    "import sympy as sym\n",
    "from IPython.display import display,Math"
   ]
  },
  {
   "cell_type": "code",
   "execution_count": 15,
   "id": "bfb55de2",
   "metadata": {},
   "outputs": [
    {
     "data": {
      "text/latex": [
       "$\\displaystyle \\text{ The solution for } 2 x - 5 \\text { is x = }  2.5$"
      ],
      "text/plain": [
       "<IPython.core.display.Math object>"
      ]
     },
     "metadata": {},
     "output_type": "display_data"
    }
   ],
   "source": [
    "#Example 1 - single solution\n",
    "x = sym.symbols('x')\n",
    "\n",
    "expr = 2*x + 4 - 9 # homogenous expression #implicitly its set to 0\n",
    "\n",
    "result = sym.solve(expr)\n",
    "\n",
    "display(Math('\\\\text{ The solution for } %s \\\\text { is x = }  %g'%(sym.latex(expr),result[0])))"
   ]
  },
  {
   "cell_type": "code",
   "execution_count": 24,
   "id": "b2b2af9a",
   "metadata": {},
   "outputs": [
    {
     "name": "stdout",
     "output_type": "stream",
     "text": [
      "solution no #1 is -2\n",
      "solution no #2 is 2\n"
     ]
    }
   ],
   "source": [
    "#Example 2 - multiple solutions\n",
    "x = sym.symbols('x')\n",
    "\n",
    "expr = x**2 - 4\n",
    "\n",
    "result = sym.solve(expr)\n",
    "\n",
    "for i in range(0,len(result)):\n",
    "    print(f'solution no #{i+1} is {result[i]}')"
   ]
  },
  {
   "cell_type": "code",
   "execution_count": 28,
   "id": "e744f04e",
   "metadata": {},
   "outputs": [
    {
     "name": "stdout",
     "output_type": "stream",
     "text": [
      "solution no #1 is (x + 20)/(4*x)\n"
     ]
    }
   ],
   "source": [
    "#Example 3 - multiple variables\n",
    "x = sym.symbols('x')\n",
    "y = sym.symbols('y')\n",
    "\n",
    "expr = x/4 - x*y + 5\n",
    "\n",
    "result = sym.solve(expr,y) ## solve for y in terms of x\n",
    "\n",
    "for i in range(0,len(result)):\n",
    "    print(f'solution no #{i+1} is {result[i]}')\n"
   ]
  },
  {
   "cell_type": "code",
   "execution_count": 6,
   "id": "b0949b56",
   "metadata": {},
   "outputs": [
    {
     "name": "stdout",
     "output_type": "stream",
     "text": [
      "solution no #1 is 1/2 - sqrt(7)/2\n",
      "solution no #2 is 1/2 + sqrt(7)/2\n"
     ]
    }
   ],
   "source": [
    "#Example 4\n",
    "q = sym.symbols('q')\n",
    "\n",
    "expr = 2*q -3/q -2\n",
    "\n",
    "result = sym.solve(expr)\n",
    "\n",
    "for i in range(0,len(result)):\n",
    "    print(f'solution no #{i+1} is {result[i]}')"
   ]
  },
  {
   "cell_type": "code",
   "execution_count": 7,
   "id": "98398646",
   "metadata": {},
   "outputs": [
    {
     "name": "stdout",
     "output_type": "stream",
     "text": [
      "solution no #1 is 1/2 - sqrt(7)/2\n",
      "solution no #2 is 1/2 + sqrt(7)/2\n"
     ]
    },
    {
     "data": {
      "text/latex": [
       "$\\displaystyle q=\\left[ \\frac{1}{2} - \\frac{\\sqrt{7}}{2}, \\  \\frac{1}{2} + \\frac{\\sqrt{7}}{2}\\right]$"
      ],
      "text/plain": [
       "<IPython.core.display.Math object>"
      ]
     },
     "metadata": {},
     "output_type": "display_data"
    }
   ],
   "source": [
    "#Example 5 - using simplify\n",
    "q = sym.symbols('q')\n",
    "\n",
    "expr = 5*q + 1/q + 1 -3*q - 4/q -3\n",
    "\n",
    "sym.simplify(expr)\n",
    "\n",
    "result = sym.solve(expr)\n",
    "\n",
    "for i in range(0,len(result)):\n",
    "    print(f'solution no #{i+1} is {result[i]}')\n",
    "    \n",
    "display(Math('q='+sym.latex(sym.solve(expr,q))))"
   ]
  },
  {
   "cell_type": "code",
   "execution_count": 8,
   "id": "12baa645",
   "metadata": {},
   "outputs": [
    {
     "name": "stdout",
     "output_type": "stream",
     "text": [
      "solution no #1 is CRootOf(2*x**5 + 2*x**4 - 5*x**2 - 4, 0)\n",
      "solution no #2 is CRootOf(2*x**5 + 2*x**4 - 5*x**2 - 4, 1)\n",
      "solution no #3 is CRootOf(2*x**5 + 2*x**4 - 5*x**2 - 4, 2)\n",
      "solution no #4 is CRootOf(2*x**5 + 2*x**4 - 5*x**2 - 4, 3)\n",
      "solution no #5 is CRootOf(2*x**5 + 2*x**4 - 5*x**2 - 4, 4)\n"
     ]
    },
    {
     "data": {
      "text/latex": [
       "$\\displaystyle q=\\left[ \\operatorname{CRootOf} {\\left(2 x^{5} + 2 x^{4} - 5 x^{2} - 4, 0\\right)}, \\  \\operatorname{CRootOf} {\\left(2 x^{5} + 2 x^{4} - 5 x^{2} - 4, 1\\right)}, \\  \\operatorname{CRootOf} {\\left(2 x^{5} + 2 x^{4} - 5 x^{2} - 4, 2\\right)}, \\  \\operatorname{CRootOf} {\\left(2 x^{5} + 2 x^{4} - 5 x^{2} - 4, 3\\right)}, \\  \\operatorname{CRootOf} {\\left(2 x^{5} + 2 x^{4} - 5 x^{2} - 4, 4\\right)}\\right]$"
      ],
      "text/plain": [
       "<IPython.core.display.Math object>"
      ]
     },
     "metadata": {},
     "output_type": "display_data"
    }
   ],
   "source": [
    "#Example 6 - using simplify\n",
    "q = sym.symbols('q')\n",
    "\n",
    "expr = 2*q + 2*q**2 - 5/q - 4/q**3 ##PEMDAS #BODMAS\n",
    "\n",
    "sym.simplify(expr)\n",
    "\n",
    "result = sym.solve(expr)\n",
    "\n",
    "for i in range(0,len(result)):\n",
    "    print(f'solution no #{i+1} is {result[i]}')\n",
    "\n",
    "sym.cancel(expr)\n",
    "\n",
    "display(Math('q='+sym.latex(sym.solve(expr,q))))"
   ]
  },
  {
   "cell_type": "code",
   "execution_count": 6,
   "id": "09c8a63b",
   "metadata": {},
   "outputs": [
    {
     "data": {
      "text/latex": [
       "$\\displaystyle q=\\left[ \\right]$"
      ],
      "text/plain": [
       "<IPython.core.display.Math object>"
      ]
     },
     "metadata": {},
     "output_type": "display_data"
    },
    {
     "data": {
      "text/latex": [
       "$\\displaystyle \\frac{\\sqrt{6}}{2}$"
      ],
      "text/plain": [
       "sqrt(6)/2"
      ]
     },
     "execution_count": 6,
     "metadata": {},
     "output_type": "execute_result"
    }
   ],
   "source": [
    "#Example 7 \n",
    "q = sym.symbols('q')\n",
    "\n",
    "#expr = (3**(1/2) + q*(15**(1/2)))/(2**(1/2) + q*(10**(1/2)))\n",
    "expr = (sym.sqrt(3) + sym.sqrt(15)*q) / (sym.sqrt(2) + sym.sqrt(10)*q)\n",
    "\n",
    "sym.simplify(expr)\n",
    "\n",
    "result = sym.solve(expr)\n",
    "\n",
    "for i in range(0,len(result)):\n",
    "    print(f'solution no #{i+1} is {result[i]}')\n",
    "    \n",
    "#Expanding Terms - method 1\n",
    "\n",
    "x = sym.symbols('x')\n",
    "term1 = 4*x + 5\n",
    "term2 = x\n",
    "\n",
    "print(term1*term2)\n",
    "\n",
    "\n",
    "display(Math('q='+sym.latex(sym.solve(expr,q))))\n",
    "sym.cancel(expr)"
   ]
  },
  {
   "cell_type": "code",
   "execution_count": 7,
   "id": "55923a35",
   "metadata": {},
   "outputs": [
    {
     "data": {
      "text/latex": [
       "$\\displaystyle 1.22474487139159$"
      ],
      "text/plain": [
       "1.22474487139159"
      ]
     },
     "execution_count": 7,
     "metadata": {},
     "output_type": "execute_result"
    }
   ],
   "source": [
    "expr.subs(q,10).evalf() # set q = 10 and evaluate the expr"
   ]
  },
  {
   "cell_type": "code",
   "execution_count": 3,
   "id": "3f0db909",
   "metadata": {},
   "outputs": [
    {
     "name": "stdout",
     "output_type": "stream",
     "text": [
      "x*(4*x + 5)\n"
     ]
    }
   ],
   "source": [
    "#Expanding Terms - method 1 using sym.symbols\n",
    "\n",
    "x = sym.symbols('x')\n",
    "term1 = 4*x + 5\n",
    "term2 = x\n",
    "\n",
    "print(term1*term2)\n"
   ]
  },
  {
   "cell_type": "code",
   "execution_count": 6,
   "id": "e24b4390",
   "metadata": {},
   "outputs": [
    {
     "name": "stdout",
     "output_type": "stream",
     "text": [
      "a*(4*a + 5)\n",
      "4*a**2 + 5*a\n"
     ]
    }
   ],
   "source": [
    "#Expanding Terms - method 2 using sympy.abc\n",
    "\n",
    "from sympy.abc import a #only works for a single letter\n",
    "\n",
    "term1 = 4*a + 5\n",
    "term2 = a\n",
    "\n",
    "print(term1*term2)\n",
    "print(sym.expand(term1*term2))"
   ]
  },
  {
   "cell_type": "code",
   "execution_count": 9,
   "id": "49c93986",
   "metadata": {},
   "outputs": [
    {
     "data": {
      "text/latex": [
       "$\\displaystyle 4 a^{2} + 5 a$"
      ],
      "text/plain": [
       "<IPython.core.display.Math object>"
      ]
     },
     "metadata": {},
     "output_type": "display_data"
    }
   ],
   "source": [
    "display(Math(sym.latex(sym.expand(term1*term2))))"
   ]
  },
  {
   "cell_type": "code",
   "execution_count": 10,
   "id": "4abd768e",
   "metadata": {},
   "outputs": [
    {
     "data": {
      "text/latex": [
       "$\\displaystyle a \\left(4 a + 5\\right)$"
      ],
      "text/plain": [
       "<IPython.core.display.Math object>"
      ]
     },
     "metadata": {},
     "output_type": "display_data"
    }
   ],
   "source": [
    "display(Math(sym.latex(term1*term2)))"
   ]
  },
  {
   "cell_type": "code",
   "execution_count": 11,
   "id": "10f4993c",
   "metadata": {},
   "outputs": [
    {
     "data": {
      "text/latex": [
       "$\\displaystyle x \\left(- \\frac{5^{x}}{x} + 2 y^{2}\\right)$"
      ],
      "text/plain": [
       "<IPython.core.display.Math object>"
      ]
     },
     "metadata": {},
     "output_type": "display_data"
    },
    {
     "data": {
      "text/latex": [
       "$\\displaystyle - 5^{x} + 2 x y^{2}$"
      ],
      "text/plain": [
       "<IPython.core.display.Math object>"
      ]
     },
     "metadata": {},
     "output_type": "display_data"
    }
   ],
   "source": [
    "#Expanding Terms - multiple variables\n",
    "\n",
    "from sympy.abc import y\n",
    "\n",
    "expr = x*(2*y**2-5**x/x)\n",
    "display(Math(sym.latex(expr)))\n",
    "display(Math(sym.latex(sym.expand(expr))))"
   ]
  },
  {
   "cell_type": "code",
   "execution_count": 12,
   "id": "5dedcca7",
   "metadata": {},
   "outputs": [
    {
     "name": "stdout",
     "output_type": "stream",
     "text": [
      "Variable   Type        Data/Info\n",
      "--------------------------------\n",
      "Math       type        <class 'IPython.core.display.Math'>\n",
      "a          Symbol      a\n",
      "display    function    <function display at 0x000001AB22070F70>\n",
      "expr       Mul         x*(-5**x/x + 2*y**2)\n",
      "sym        module      <module 'sympy' from 'C:\\<...>ges\\\\sympy\\\\__init__.py'>\n",
      "term1      Add         4*a + 5\n",
      "term2      Symbol      a\n",
      "x          Symbol      x\n",
      "y          Symbol      y\n"
     ]
    }
   ],
   "source": [
    "%whos # to check what has been imported\n"
   ]
  },
  {
   "cell_type": "code",
   "execution_count": 9,
   "id": "d9b947ba",
   "metadata": {},
   "outputs": [
    {
     "name": "stdout",
     "output_type": "stream",
     "text": [
      "x = 1, y = 1, fxy = 5\n",
      "x = 1, y = 2, fxy = 0\n",
      "x = 1, y = 3, fxy = -5\n",
      "x = 2, y = 1, fxy = 6\n",
      "x = 2, y = 2, fxy = 0\n",
      "x = 2, y = 3, fxy = -6\n",
      "x = 3, y = 1, fxy = 7\n",
      "x = 3, y = 2, fxy = 0\n",
      "x = 3, y = 3, fxy = -7\n"
     ]
    }
   ],
   "source": [
    "#Create a function\n",
    "from sympy.abc import x,y\n",
    "\n",
    "fxy = (4+x)*(2-y)\n",
    "\n",
    "fxy.subs({x:1,y:1})\n",
    "\n",
    "for i in range(1,4):\n",
    "    for j in range(1,4):\n",
    "        print(f\"x = {i}, y = {j}, fxy = {fxy.subs({x:i,y:j})}\")"
   ]
  },
  {
   "cell_type": "code",
   "execution_count": 15,
   "id": "a589f442",
   "metadata": {},
   "outputs": [
    {
     "name": "stdout",
     "output_type": "stream",
     "text": [
      "When x = 0 and y = 0 then f(x,y) = 8\n",
      "When x = 0 and y = 1 then f(x,y) = 4\n",
      "When x = 0 and y = 2 then f(x,y) = 0\n",
      "When x = 1 and y = 0 then f(x,y) = 10\n",
      "When x = 1 and y = 1 then f(x,y) = 5\n",
      "When x = 1 and y = 2 then f(x,y) = 0\n",
      "When x = 2 and y = 0 then f(x,y) = 12\n",
      "When x = 2 and y = 1 then f(x,y) = 6\n",
      "When x = 2 and y = 2 then f(x,y) = 0\n"
     ]
    }
   ],
   "source": [
    "#Create a function\n",
    "from sympy.abc import x,y\n",
    "\n",
    "fxy = (4+x)*(2-y)\n",
    "\n",
    "numrange = range(0,3)\n",
    "\n",
    "for xi in numrange:\n",
    "    for yi in numrange:\n",
    "        print(\"When x = %g and y = %g then f(x,y) = %g\" %(xi,yi,fxy.subs({x:xi,y:yi})))"
   ]
  },
  {
   "cell_type": "code",
   "execution_count": 23,
   "id": "370f2e24",
   "metadata": {},
   "outputs": [],
   "source": [
    "# Creating Matrices\n",
    "#Matrix is an ordered set of numbers\n",
    "# A lot of digital applications require good knowledge of Matrices and linear algebra\n",
    "\n",
    "import numpy as np\n",
    "import sympy as sym\n",
    "from IPython.display import display,Math"
   ]
  },
  {
   "cell_type": "code",
   "execution_count": 19,
   "id": "00ade370",
   "metadata": {},
   "outputs": [
    {
     "data": {
      "text/plain": [
       "list"
      ]
     },
     "execution_count": 19,
     "metadata": {},
     "output_type": "execute_result"
    }
   ],
   "source": [
    "A = [[1,2],[3,4]]\n",
    "type(A)"
   ]
  },
  {
   "cell_type": "code",
   "execution_count": 28,
   "id": "186ef25f",
   "metadata": {},
   "outputs": [
    {
     "data": {
      "text/plain": [
       "numpy.ndarray"
      ]
     },
     "execution_count": 28,
     "metadata": {},
     "output_type": "execute_result"
    }
   ],
   "source": [
    "A = np.array([[1,2],[3,4]] )  #matrix defined as an n-dimensional array\n",
    "type(A)\n"
   ]
  },
  {
   "cell_type": "code",
   "execution_count": 30,
   "id": "b7a04748",
   "metadata": {},
   "outputs": [
    {
     "data": {
      "text/latex": [
       "$\\displaystyle \\left[\\begin{matrix}1 & 2\\\\3 & 4\\end{matrix}\\right]$"
      ],
      "text/plain": [
       "<IPython.core.display.Math object>"
      ]
     },
     "metadata": {},
     "output_type": "display_data"
    }
   ],
   "source": [
    "display(Math(sym.latex(sym.sympify(A)))) #sympify converts numpy array to sympy equivalent"
   ]
  },
  {
   "cell_type": "code",
   "execution_count": 40,
   "id": "462015bb",
   "metadata": {},
   "outputs": [
    {
     "data": {
      "text/plain": [
       "array([[ 1., -1.,  1., -1.],\n",
       "       [-1.,  1., -1.,  1.],\n",
       "       [ 1., -1.,  1., -1.],\n",
       "       [-1.,  1., -1.,  1.]])"
      ]
     },
     "execution_count": 40,
     "metadata": {},
     "output_type": "execute_result"
    }
   ],
   "source": [
    "#Matrix Operations\n",
    "\n",
    "B = np.zeros([2,3]) #Creating matrix of all Zeroes #2 rows and 3 columns\n",
    "B[0,1]=2 #Modifying the elements of a Matrix\n",
    "\n",
    "n=4\n",
    "numrange = range(0,4)\n",
    "B = np.zeros([n,n])\n",
    "\n",
    "for rowi in numrange:\n",
    "    for coli in numrange:\n",
    "        B[rowi,coli] = (-1)**(rowi+coli)\n",
    "B"
   ]
  },
  {
   "cell_type": "code",
   "execution_count": 49,
   "id": "1ca6124f",
   "metadata": {},
   "outputs": [
    {
     "data": {
      "text/latex": [
       "$\\displaystyle \\left[\\begin{matrix}8.0 & 4.0 & 0.0 & -4.0\\\\10.0 & 5.0 & 0.0 & -5.0\\\\12.0 & 6.0 & 0.0 & -6.0\\\\14.0 & 7.0 & 0.0 & -7.0\\end{matrix}\\right]$"
      ],
      "text/plain": [
       "<IPython.core.display.Math object>"
      ]
     },
     "metadata": {},
     "output_type": "display_data"
    }
   ],
   "source": [
    "## Evaluate a function and store its values in a matrix\n",
    "\n",
    "#Import Packages\n",
    "import numpy as np\n",
    "import sympy as sym\n",
    "from IPython.display import display,Math\n",
    "from sympy.abc import x,y\n",
    "\n",
    "#create function\n",
    "fxy = (4+x)*(2-y)\n",
    "\n",
    "numrange = range(0,4)\n",
    "\n",
    "#initialize matrix\n",
    "A=np.zeros([len(numrange),len(numrange)])\n",
    "\n",
    "for row in numrange:\n",
    "    for col in numrange:\n",
    "        A[row,col] = fxy.subs({x:row,y:col})\n",
    "        \n",
    "display(Math(sym.latex(sym.sympify(A))))"
   ]
  },
  {
   "cell_type": "code",
   "execution_count": 65,
   "id": "3933454e",
   "metadata": {},
   "outputs": [
    {
     "data": {
      "text/latex": [
       "$\\displaystyle \\left[\\begin{matrix}1 & 2 & 3 & 4 & 5 & 6 & 7 & 8 & 9 & 10\\\\2 & 4 & 6 & 8 & 10 & 12 & 14 & 16 & 18 & 20\\\\3 & 6 & 9 & 12 & 15 & 18 & 21 & 24 & 27 & 30\\\\4 & 8 & 12 & 16 & 20 & 24 & 28 & 32 & 36 & 40\\\\5 & 10 & 15 & 20 & 25 & 30 & 35 & 40 & 45 & 50\\\\6 & 12 & 18 & 24 & 30 & 36 & 42 & 48 & 54 & 60\\\\7 & 14 & 21 & 28 & 35 & 42 & 49 & 56 & 63 & 70\\\\8 & 16 & 24 & 32 & 40 & 48 & 56 & 64 & 72 & 80\\\\9 & 18 & 27 & 36 & 45 & 54 & 63 & 72 & 81 & 90\\\\10 & 20 & 30 & 40 & 50 & 60 & 70 & 80 & 90 & 100\\end{matrix}\\right]$"
      ],
      "text/plain": [
       "<IPython.core.display.Math object>"
      ]
     },
     "metadata": {},
     "output_type": "display_data"
    }
   ],
   "source": [
    "#Creating a multiplication table\n",
    "\n",
    "#Import Packages\n",
    "import numpy as np\n",
    "from IPython.display import display,Math\n",
    "\n",
    "n = 10\n",
    "\n",
    "outmat = np.zeros([n,n],dtype=int) #dtype ensures values are saved as integers instead floats\n",
    "\n",
    "for i in range(0,n):\n",
    "    for j in range(0,n):\n",
    "        outmat[i,j] = (i+1)*(j+1)\n",
    "        \n",
    "display(Math(sym.latex(sym.sympify(outmat))))"
   ]
  },
  {
   "cell_type": "code",
   "execution_count": 8,
   "id": "2888e5b7",
   "metadata": {},
   "outputs": [
    {
     "name": "stdout",
     "output_type": "stream",
     "text": [
      "Associative property result -  0\n",
      "Commutative property result -  24 24 24\n",
      "Distributive property result -  a*c + a*d + b*c + b*d\n"
     ]
    }
   ],
   "source": [
    "#Linear Algebra using sympy\n",
    "import sympy as sym\n",
    "from sympy.abc import x,y\n",
    "\n",
    "#Associative Property\n",
    "#ax(bxc) = (axb)xc\n",
    "expr1 = x*(4*y)\n",
    "expr2 = (x*4)*y\n",
    "\n",
    "print (\"Associative property result - \", expr1 - expr2) # if this is 0 that means these are equal\n",
    "\n",
    "#Commutative Property\n",
    "#axb = bxa\n",
    "e1 = 4*x*y\n",
    "e2 = x*4*y\n",
    "e3 = y*x*4\n",
    "\n",
    "print(\"Commutative property result - \",e1.subs({x:3,y:2}),e2.subs({x:3,y:2}),e3.subs({x:3,y:2}))\n",
    "\n",
    "\n",
    "#Distributive Rule\n",
    "#x(y+z) = xy + xz\n",
    "a,b,c,d = sym.symbols('a,b,c,d')\n",
    "expr = (a + b)*(c + d)\n",
    "\n",
    "\n",
    "print(\"Distributive property result - \",sym.expand(expr))"
   ]
  },
  {
   "cell_type": "code",
   "execution_count": 19,
   "id": "20e407df",
   "metadata": {},
   "outputs": [
    {
     "name": "stdout",
     "output_type": "stream",
     "text": [
      "(3*w**6 + (-w**3*(w - 4) + w + 1)**3)*(y + z)/w**6\n",
      "(3*w**6 + (-w**3*(w - 4) + w + 1)**3)*(y + z)/w**6\n"
     ]
    },
    {
     "data": {
      "text/latex": [
       "$\\displaystyle \\left(y + z\\right) \\left(w \\left(4 - w\\right) + \\frac{w + 1}{w^{2}}\\right) \\left(\\left(w \\left(4 - w\\right) + \\frac{w + 1}{w^{2}}\\right)^{2} + \\frac{3}{w \\left(4 - w\\right) + \\frac{w + 1}{w^{2}}}\\right)$"
      ],
      "text/plain": [
       "<IPython.core.display.Math object>"
      ]
     },
     "metadata": {},
     "output_type": "display_data"
    },
    {
     "data": {
      "text/latex": [
       "$\\displaystyle \\frac{\\left(3 w^{6} + \\left(- w^{3} \\left(w - 4\\right) + w + 1\\right)^{3}\\right) \\left(y + z\\right)}{w^{6}}$"
      ],
      "text/plain": [
       "<IPython.core.display.Math object>"
      ]
     },
     "metadata": {},
     "output_type": "display_data"
    }
   ],
   "source": [
    "import sympy as sym\n",
    "from IPython.display import display,Math\n",
    "\n",
    "x,y,z,w,f1,f2 = sym.symbols('x y z w f1 f2')\n",
    "\n",
    "x = w*(4-w) + (1+w)/w**2\n",
    "f1 = x*(y+z)\n",
    "f2 = 3/x + x**2\n",
    "\n",
    "print(sym.simplify(f1*f2))\n",
    "print(sym.simplify(f2*f1))\n",
    "sym.simplify(f1*f2) - sym.simplify(f2*f1) #commutative property holds\n",
    "\n",
    "display(Math(sym.latex(f1*f2)))\n",
    "display(Math(sym.latex(sym.simplify(f2*f1))))"
   ]
  },
  {
   "cell_type": "code",
   "execution_count": 26,
   "id": "c0889ef0",
   "metadata": {},
   "outputs": [
    {
     "name": "stdout",
     "output_type": "stream",
     "text": [
      "word 0 is hello\n",
      "word 1 is my\n",
      "word 2 is name\n",
      "word 3 is is\n",
      "word 4 is Batman\n"
     ]
    }
   ],
   "source": [
    "#Python Lists\n",
    "lst = [1,2,3,4,5]\n",
    "\n",
    "type(lst)\n",
    "\n",
    " #slicing\n",
    "lst[-1]\n",
    "lst[1:3]#from 1 to 3-1\n",
    "lst[:3] #rints first few entires, upto 3-1\n",
    "lst[-2:] # prints last 2 entries\n",
    "\n",
    "k=2\n",
    "#slice first k elements\n",
    "lst [:k]\n",
    "\n",
    "#slice last k elements\n",
    "lst[-k:]\n",
    "\n",
    "lst  = [1,3,6,7,4,5,6,1,3,5,6,4,0]\n",
    "\n",
    "n=3\n",
    "k=7\n",
    "\n",
    "\n",
    "\n",
    "#note the difference between these two commands\n",
    "lst[:n] #first n elements\n",
    "lst[n:] # from the n index till the end \n",
    "\n",
    "lst[n:k] # element fron index n to k-1\n",
    "\n",
    "#Lists are not confined to numbers\n",
    "words = [\"hello\",\"my\",\"name\",\"is\",\"Batman\"]\n",
    "\n",
    "for i in words:\n",
    "    #print(i)\n",
    "    break\n",
    "    \n",
    "\n",
    "for i in range(0,len(words)):\n",
    "    print(f\"word {i} is {words[i]}\")\n"
   ]
  },
  {
   "cell_type": "code",
   "execution_count": 30,
   "id": "6695cc80",
   "metadata": {},
   "outputs": [
    {
     "name": "stdout",
     "output_type": "stream",
     "text": [
      "1\n",
      "2\n",
      "cookes\n",
      "[6, 4]\n"
     ]
    },
    {
     "data": {
      "text/plain": [
       "6"
      ]
     },
     "execution_count": 30,
     "metadata": {},
     "output_type": "execute_result"
    }
   ],
   "source": [
    "alist = [1,2,'cookes',[6,4]]\n",
    "\n",
    "for i in range(0,len(alist)):\n",
    "    print(alist[i])\n",
    "    \n",
    "alist[-1][0]#first element of the last list which is a part of the larger list"
   ]
  },
  {
   "cell_type": "code",
   "execution_count": 53,
   "id": "17117a42",
   "metadata": {},
   "outputs": [
    {
     "data": {
      "text/latex": [
       "$\\displaystyle x \\left(4 - 6 x\\right) + 3 x \\quad \\Longleftrightarrow \\quad - 6 x^{2} + 7 x$"
      ],
      "text/plain": [
       "<IPython.core.display.Math object>"
      ]
     },
     "metadata": {},
     "output_type": "display_data"
    },
    {
     "data": {
      "text/latex": [
       "$\\displaystyle - x \\left(\\frac{2}{x} + \\frac{4}{x^{2}}\\right) + \\frac{x + 4}{4 x} \\quad \\Longleftrightarrow \\quad - \\frac{7}{4} - \\frac{3}{x}$"
      ],
      "text/plain": [
       "<IPython.core.display.Math object>"
      ]
     },
     "metadata": {},
     "output_type": "display_data"
    },
    {
     "data": {
      "text/latex": [
       "$\\displaystyle \\frac{\\left(x - 3\\right) \\left(x + 3\\right)}{9} \\quad \\Longleftrightarrow \\quad \\frac{x^{2}}{9} - 1$"
      ],
      "text/plain": [
       "<IPython.core.display.Math object>"
      ]
     },
     "metadata": {},
     "output_type": "display_data"
    }
   ],
   "source": [
    "import sympy as sym\n",
    "from IPython.display import display,Math\n",
    "\n",
    "x = sym.symbols('x')\n",
    "\n",
    "#PEMDAS - please excuse my aunt sally\n",
    "#BODMAS\n",
    "e1 = 2*x +x*(4-6*x) + x\n",
    "e2 = -x*(2/x + 4/x**2) + (4+x)/(4*x)\n",
    "e3 = (x+3)*(x-3)*x*(1/(9*x))\n",
    "\n",
    "#print(e1.subs({x:0}))\n",
    "\n",
    "lst = [e1,e2,e3]\n",
    "\n",
    "\n",
    "for i in lst:\n",
    "    display(Math(\"%s \\\\quad \\\\Longleftrightarrow \\\\quad %s\"%(sym.latex(i),sym.latex(sym.expand(i)))))"
   ]
  },
  {
   "cell_type": "code",
   "execution_count": null,
   "id": "5154cbac",
   "metadata": {},
   "outputs": [],
   "source": []
  }
 ],
 "metadata": {
  "kernelspec": {
   "display_name": "Python 3 (ipykernel)",
   "language": "python",
   "name": "python3"
  },
  "language_info": {
   "codemirror_mode": {
    "name": "ipython",
    "version": 3
   },
   "file_extension": ".py",
   "mimetype": "text/x-python",
   "name": "python",
   "nbconvert_exporter": "python",
   "pygments_lexer": "ipython3",
   "version": "3.10.9"
  }
 },
 "nbformat": 4,
 "nbformat_minor": 5
}
