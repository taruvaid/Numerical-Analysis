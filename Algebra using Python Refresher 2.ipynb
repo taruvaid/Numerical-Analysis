{
 "cells": [
  {
   "cell_type": "code",
   "execution_count": 1,
   "id": "5e395e4f",
   "metadata": {},
   "outputs": [],
   "source": [
    "#### Solving for x\n",
    "# homogenous form : ax + b - c = 0. Many functions require this form\n",
    "\n",
    "import sympy as sym\n",
    "from IPython.display import display,Math"
   ]
  },
  {
   "cell_type": "code",
   "execution_count": 15,
   "id": "bfb55de2",
   "metadata": {},
   "outputs": [
    {
     "data": {
      "text/latex": [
       "$\\displaystyle \\text{ The solution for } 2 x - 5 \\text { is x = }  2.5$"
      ],
      "text/plain": [
       "<IPython.core.display.Math object>"
      ]
     },
     "metadata": {},
     "output_type": "display_data"
    }
   ],
   "source": [
    "#Example 1 - single solution\n",
    "x = sym.symbols('x')\n",
    "\n",
    "expr = 2*x + 4 - 9 # homogenous expression #implicitly its set to 0\n",
    "\n",
    "result = sym.solve(expr)\n",
    "\n",
    "display(Math('\\\\text{ The solution for } %s \\\\text { is x = }  %g'%(sym.latex(expr),result[0])))"
   ]
  },
  {
   "cell_type": "code",
   "execution_count": 24,
   "id": "b2b2af9a",
   "metadata": {},
   "outputs": [
    {
     "name": "stdout",
     "output_type": "stream",
     "text": [
      "solution no #1 is -2\n",
      "solution no #2 is 2\n"
     ]
    }
   ],
   "source": [
    "#Example 2 - multiple solutions\n",
    "x = sym.symbols('x')\n",
    "\n",
    "expr = x**2 - 4\n",
    "\n",
    "result = sym.solve(expr)\n",
    "\n",
    "for i in range(0,len(result)):\n",
    "    print(f'solution no #{i+1} is {result[i]}')"
   ]
  },
  {
   "cell_type": "code",
   "execution_count": 28,
   "id": "e744f04e",
   "metadata": {},
   "outputs": [
    {
     "name": "stdout",
     "output_type": "stream",
     "text": [
      "solution no #1 is (x + 20)/(4*x)\n"
     ]
    }
   ],
   "source": [
    "#Example 3 - multiple variables\n",
    "x = sym.symbols('x')\n",
    "y = sym.symbols('y')\n",
    "\n",
    "expr = x/4 - x*y + 5\n",
    "\n",
    "result = sym.solve(expr,y) ## solve for y in terms of x\n",
    "\n",
    "for i in range(0,len(result)):\n",
    "    print(f'solution no #{i+1} is {result[i]}')\n"
   ]
  },
  {
   "cell_type": "code",
   "execution_count": 6,
   "id": "b0949b56",
   "metadata": {},
   "outputs": [
    {
     "name": "stdout",
     "output_type": "stream",
     "text": [
      "solution no #1 is 1/2 - sqrt(7)/2\n",
      "solution no #2 is 1/2 + sqrt(7)/2\n"
     ]
    }
   ],
   "source": [
    "#Example 4\n",
    "q = sym.symbols('q')\n",
    "\n",
    "expr = 2*q -3/q -2\n",
    "\n",
    "result = sym.solve(expr)\n",
    "\n",
    "for i in range(0,len(result)):\n",
    "    print(f'solution no #{i+1} is {result[i]}')"
   ]
  },
  {
   "cell_type": "code",
   "execution_count": 7,
   "id": "98398646",
   "metadata": {},
   "outputs": [
    {
     "name": "stdout",
     "output_type": "stream",
     "text": [
      "solution no #1 is 1/2 - sqrt(7)/2\n",
      "solution no #2 is 1/2 + sqrt(7)/2\n"
     ]
    },
    {
     "data": {
      "text/latex": [
       "$\\displaystyle q=\\left[ \\frac{1}{2} - \\frac{\\sqrt{7}}{2}, \\  \\frac{1}{2} + \\frac{\\sqrt{7}}{2}\\right]$"
      ],
      "text/plain": [
       "<IPython.core.display.Math object>"
      ]
     },
     "metadata": {},
     "output_type": "display_data"
    }
   ],
   "source": [
    "#Example 5 - using simplify\n",
    "q = sym.symbols('q')\n",
    "\n",
    "expr = 5*q + 1/q + 1 -3*q - 4/q -3\n",
    "\n",
    "sym.simplify(expr)\n",
    "\n",
    "result = sym.solve(expr)\n",
    "\n",
    "for i in range(0,len(result)):\n",
    "    print(f'solution no #{i+1} is {result[i]}')\n",
    "    \n",
    "display(Math('q='+sym.latex(sym.solve(expr,q))))"
   ]
  },
  {
   "cell_type": "code",
   "execution_count": 8,
   "id": "12baa645",
   "metadata": {},
   "outputs": [
    {
     "name": "stdout",
     "output_type": "stream",
     "text": [
      "solution no #1 is CRootOf(2*x**5 + 2*x**4 - 5*x**2 - 4, 0)\n",
      "solution no #2 is CRootOf(2*x**5 + 2*x**4 - 5*x**2 - 4, 1)\n",
      "solution no #3 is CRootOf(2*x**5 + 2*x**4 - 5*x**2 - 4, 2)\n",
      "solution no #4 is CRootOf(2*x**5 + 2*x**4 - 5*x**2 - 4, 3)\n",
      "solution no #5 is CRootOf(2*x**5 + 2*x**4 - 5*x**2 - 4, 4)\n"
     ]
    },
    {
     "data": {
      "text/latex": [
       "$\\displaystyle q=\\left[ \\operatorname{CRootOf} {\\left(2 x^{5} + 2 x^{4} - 5 x^{2} - 4, 0\\right)}, \\  \\operatorname{CRootOf} {\\left(2 x^{5} + 2 x^{4} - 5 x^{2} - 4, 1\\right)}, \\  \\operatorname{CRootOf} {\\left(2 x^{5} + 2 x^{4} - 5 x^{2} - 4, 2\\right)}, \\  \\operatorname{CRootOf} {\\left(2 x^{5} + 2 x^{4} - 5 x^{2} - 4, 3\\right)}, \\  \\operatorname{CRootOf} {\\left(2 x^{5} + 2 x^{4} - 5 x^{2} - 4, 4\\right)}\\right]$"
      ],
      "text/plain": [
       "<IPython.core.display.Math object>"
      ]
     },
     "metadata": {},
     "output_type": "display_data"
    }
   ],
   "source": [
    "#Example 6 - using simplify\n",
    "q = sym.symbols('q')\n",
    "\n",
    "expr = 2*q + 2*q**2 - 5/q - 4/q**3 ##PEMDAS #BODMAS\n",
    "\n",
    "sym.simplify(expr)\n",
    "\n",
    "result = sym.solve(expr)\n",
    "\n",
    "for i in range(0,len(result)):\n",
    "    print(f'solution no #{i+1} is {result[i]}')\n",
    "\n",
    "sym.cancel(expr)\n",
    "\n",
    "display(Math('q='+sym.latex(sym.solve(expr,q))))"
   ]
  },
  {
   "cell_type": "code",
   "execution_count": 6,
   "id": "09c8a63b",
   "metadata": {},
   "outputs": [
    {
     "data": {
      "text/latex": [
       "$\\displaystyle q=\\left[ \\right]$"
      ],
      "text/plain": [
       "<IPython.core.display.Math object>"
      ]
     },
     "metadata": {},
     "output_type": "display_data"
    },
    {
     "data": {
      "text/latex": [
       "$\\displaystyle \\frac{\\sqrt{6}}{2}$"
      ],
      "text/plain": [
       "sqrt(6)/2"
      ]
     },
     "execution_count": 6,
     "metadata": {},
     "output_type": "execute_result"
    }
   ],
   "source": [
    "#Example 7 \n",
    "q = sym.symbols('q')\n",
    "\n",
    "#expr = (3**(1/2) + q*(15**(1/2)))/(2**(1/2) + q*(10**(1/2)))\n",
    "expr = (sym.sqrt(3) + sym.sqrt(15)*q) / (sym.sqrt(2) + sym.sqrt(10)*q)\n",
    "\n",
    "sym.simplify(expr)\n",
    "\n",
    "result = sym.solve(expr)\n",
    "\n",
    "for i in range(0,len(result)):\n",
    "    print(f'solution no #{i+1} is {result[i]}')\n",
    "    \n",
    "\n",
    "\n",
    "display(Math('q='+sym.latex(sym.solve(expr,q))))\n",
    "sym.cancel(expr)"
   ]
  },
  {
   "cell_type": "code",
   "execution_count": 7,
   "id": "55923a35",
   "metadata": {},
   "outputs": [
    {
     "data": {
      "text/latex": [
       "$\\displaystyle 1.22474487139159$"
      ],
      "text/plain": [
       "1.22474487139159"
      ]
     },
     "execution_count": 7,
     "metadata": {},
     "output_type": "execute_result"
    }
   ],
   "source": [
    "expr.subs(q,10).evalf() # set q = 10 and evaluate the expr"
   ]
  },
  {
   "cell_type": "code",
   "execution_count": null,
   "id": "3f0db909",
   "metadata": {},
   "outputs": [],
   "source": []
  }
 ],
 "metadata": {
  "kernelspec": {
   "display_name": "Python 3 (ipykernel)",
   "language": "python",
   "name": "python3"
  },
  "language_info": {
   "codemirror_mode": {
    "name": "ipython",
    "version": 3
   },
   "file_extension": ".py",
   "mimetype": "text/x-python",
   "name": "python",
   "nbconvert_exporter": "python",
   "pygments_lexer": "ipython3",
   "version": "3.10.9"
  }
 },
 "nbformat": 4,
 "nbformat_minor": 5
}
