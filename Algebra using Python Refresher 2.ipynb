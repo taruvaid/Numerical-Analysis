{
 "cells": [
  {
   "cell_type": "code",
   "execution_count": 1,
   "id": "5e395e4f",
   "metadata": {},
   "outputs": [],
   "source": [
    "#### Solving for x\n",
    "# homogenous form : ax + b - c = 0. Many functions require this form\n",
    "\n",
    "import sympy as sym\n",
    "from IPython.display import display,Math"
   ]
  },
  {
   "cell_type": "code",
   "execution_count": 15,
   "id": "bfb55de2",
   "metadata": {},
   "outputs": [
    {
     "data": {
      "text/latex": [
       "$\\displaystyle \\text{ The solution for } 2 x - 5 \\text { is x = }  2.5$"
      ],
      "text/plain": [
       "<IPython.core.display.Math object>"
      ]
     },
     "metadata": {},
     "output_type": "display_data"
    }
   ],
   "source": [
    "#Example 1 - single solution\n",
    "x = sym.symbols('x')\n",
    "\n",
    "expr = 2*x + 4 - 9 # homogenous expression #implicitly its set to 0\n",
    "\n",
    "result = sym.solve(expr)\n",
    "\n",
    "display(Math('\\\\text{ The solution for } %s \\\\text { is x = }  %g'%(sym.latex(expr),result[0])))"
   ]
  },
  {
   "cell_type": "code",
   "execution_count": 24,
   "id": "b2b2af9a",
   "metadata": {},
   "outputs": [
    {
     "name": "stdout",
     "output_type": "stream",
     "text": [
      "solution no #1 is -2\n",
      "solution no #2 is 2\n"
     ]
    }
   ],
   "source": [
    "#Example 2 - multiple solutions\n",
    "x = sym.symbols('x')\n",
    "\n",
    "expr = x**2 - 4\n",
    "\n",
    "result = sym.solve(expr)\n",
    "\n",
    "for i in range(0,len(result)):\n",
    "    print(f'solution no #{i+1} is {result[i]}')"
   ]
  },
  {
   "cell_type": "code",
   "execution_count": 28,
   "id": "e744f04e",
   "metadata": {},
   "outputs": [
    {
     "name": "stdout",
     "output_type": "stream",
     "text": [
      "solution no #1 is (x + 20)/(4*x)\n"
     ]
    }
   ],
   "source": [
    "#Example 3 - multiple variables\n",
    "x = sym.symbols('x')\n",
    "y = sym.symbols('y')\n",
    "\n",
    "expr = x/4 - x*y + 5\n",
    "\n",
    "result = sym.solve(expr,y) ## solve for y in terms of x\n",
    "\n",
    "for i in range(0,len(result)):\n",
    "    print(f'solution no #{i+1} is {result[i]}')\n"
   ]
  },
  {
   "cell_type": "code",
   "execution_count": 6,
   "id": "b0949b56",
   "metadata": {},
   "outputs": [
    {
     "name": "stdout",
     "output_type": "stream",
     "text": [
      "solution no #1 is 1/2 - sqrt(7)/2\n",
      "solution no #2 is 1/2 + sqrt(7)/2\n"
     ]
    }
   ],
   "source": [
    "#Example 4\n",
    "q = sym.symbols('q')\n",
    "\n",
    "expr = 2*q -3/q -2\n",
    "\n",
    "result = sym.solve(expr)\n",
    "\n",
    "for i in range(0,len(result)):\n",
    "    print(f'solution no #{i+1} is {result[i]}')"
   ]
  },
  {
   "cell_type": "code",
   "execution_count": 7,
   "id": "98398646",
   "metadata": {},
   "outputs": [
    {
     "name": "stdout",
     "output_type": "stream",
     "text": [
      "solution no #1 is 1/2 - sqrt(7)/2\n",
      "solution no #2 is 1/2 + sqrt(7)/2\n"
     ]
    },
    {
     "data": {
      "text/latex": [
       "$\\displaystyle q=\\left[ \\frac{1}{2} - \\frac{\\sqrt{7}}{2}, \\  \\frac{1}{2} + \\frac{\\sqrt{7}}{2}\\right]$"
      ],
      "text/plain": [
       "<IPython.core.display.Math object>"
      ]
     },
     "metadata": {},
     "output_type": "display_data"
    }
   ],
   "source": [
    "#Example 5 - using simplify\n",
    "q = sym.symbols('q')\n",
    "\n",
    "expr = 5*q + 1/q + 1 -3*q - 4/q -3\n",
    "\n",
    "sym.simplify(expr)\n",
    "\n",
    "result = sym.solve(expr)\n",
    "\n",
    "for i in range(0,len(result)):\n",
    "    print(f'solution no #{i+1} is {result[i]}')\n",
    "    \n",
    "display(Math('q='+sym.latex(sym.solve(expr,q))))"
   ]
  },
  {
   "cell_type": "code",
   "execution_count": 8,
   "id": "12baa645",
   "metadata": {},
   "outputs": [
    {
     "name": "stdout",
     "output_type": "stream",
     "text": [
      "solution no #1 is CRootOf(2*x**5 + 2*x**4 - 5*x**2 - 4, 0)\n",
      "solution no #2 is CRootOf(2*x**5 + 2*x**4 - 5*x**2 - 4, 1)\n",
      "solution no #3 is CRootOf(2*x**5 + 2*x**4 - 5*x**2 - 4, 2)\n",
      "solution no #4 is CRootOf(2*x**5 + 2*x**4 - 5*x**2 - 4, 3)\n",
      "solution no #5 is CRootOf(2*x**5 + 2*x**4 - 5*x**2 - 4, 4)\n"
     ]
    },
    {
     "data": {
      "text/latex": [
       "$\\displaystyle q=\\left[ \\operatorname{CRootOf} {\\left(2 x^{5} + 2 x^{4} - 5 x^{2} - 4, 0\\right)}, \\  \\operatorname{CRootOf} {\\left(2 x^{5} + 2 x^{4} - 5 x^{2} - 4, 1\\right)}, \\  \\operatorname{CRootOf} {\\left(2 x^{5} + 2 x^{4} - 5 x^{2} - 4, 2\\right)}, \\  \\operatorname{CRootOf} {\\left(2 x^{5} + 2 x^{4} - 5 x^{2} - 4, 3\\right)}, \\  \\operatorname{CRootOf} {\\left(2 x^{5} + 2 x^{4} - 5 x^{2} - 4, 4\\right)}\\right]$"
      ],
      "text/plain": [
       "<IPython.core.display.Math object>"
      ]
     },
     "metadata": {},
     "output_type": "display_data"
    }
   ],
   "source": [
    "#Example 6 - using simplify\n",
    "q = sym.symbols('q')\n",
    "\n",
    "expr = 2*q + 2*q**2 - 5/q - 4/q**3 ##PEMDAS #BODMAS\n",
    "\n",
    "sym.simplify(expr)\n",
    "\n",
    "result = sym.solve(expr)\n",
    "\n",
    "for i in range(0,len(result)):\n",
    "    print(f'solution no #{i+1} is {result[i]}')\n",
    "\n",
    "sym.cancel(expr)\n",
    "\n",
    "display(Math('q='+sym.latex(sym.solve(expr,q))))"
   ]
  },
  {
   "cell_type": "code",
   "execution_count": 6,
   "id": "09c8a63b",
   "metadata": {},
   "outputs": [
    {
     "data": {
      "text/latex": [
       "$\\displaystyle q=\\left[ \\right]$"
      ],
      "text/plain": [
       "<IPython.core.display.Math object>"
      ]
     },
     "metadata": {},
     "output_type": "display_data"
    },
    {
     "data": {
      "text/latex": [
       "$\\displaystyle \\frac{\\sqrt{6}}{2}$"
      ],
      "text/plain": [
       "sqrt(6)/2"
      ]
     },
     "execution_count": 6,
     "metadata": {},
     "output_type": "execute_result"
    }
   ],
   "source": [
    "#Example 7 \n",
    "q = sym.symbols('q')\n",
    "\n",
    "#expr = (3**(1/2) + q*(15**(1/2)))/(2**(1/2) + q*(10**(1/2)))\n",
    "expr = (sym.sqrt(3) + sym.sqrt(15)*q) / (sym.sqrt(2) + sym.sqrt(10)*q)\n",
    "\n",
    "sym.simplify(expr)\n",
    "\n",
    "result = sym.solve(expr)\n",
    "\n",
    "for i in range(0,len(result)):\n",
    "    print(f'solution no #{i+1} is {result[i]}')\n",
    "    \n",
    "#Expanding Terms - method 1\n",
    "\n",
    "x = sym.symbols('x')\n",
    "term1 = 4*x + 5\n",
    "term2 = x\n",
    "\n",
    "print(term1*term2)\n",
    "\n",
    "\n",
    "display(Math('q='+sym.latex(sym.solve(expr,q))))\n",
    "sym.cancel(expr)"
   ]
  },
  {
   "cell_type": "code",
   "execution_count": 7,
   "id": "55923a35",
   "metadata": {},
   "outputs": [
    {
     "data": {
      "text/latex": [
       "$\\displaystyle 1.22474487139159$"
      ],
      "text/plain": [
       "1.22474487139159"
      ]
     },
     "execution_count": 7,
     "metadata": {},
     "output_type": "execute_result"
    }
   ],
   "source": [
    "expr.subs(q,10).evalf() # set q = 10 and evaluate the expr"
   ]
  },
  {
   "cell_type": "code",
   "execution_count": 3,
   "id": "3f0db909",
   "metadata": {},
   "outputs": [
    {
     "name": "stdout",
     "output_type": "stream",
     "text": [
      "x*(4*x + 5)\n"
     ]
    }
   ],
   "source": [
    "#Expanding Terms - method 1 using sym.symbols\n",
    "\n",
    "x = sym.symbols('x')\n",
    "term1 = 4*x + 5\n",
    "term2 = x\n",
    "\n",
    "print(term1*term2)\n"
   ]
  },
  {
   "cell_type": "code",
   "execution_count": 6,
   "id": "e24b4390",
   "metadata": {},
   "outputs": [
    {
     "name": "stdout",
     "output_type": "stream",
     "text": [
      "a*(4*a + 5)\n",
      "4*a**2 + 5*a\n"
     ]
    }
   ],
   "source": [
    "#Expanding Terms - method 2 using sympy.abc\n",
    "\n",
    "from sympy.abc import a #only works for a single letter\n",
    "\n",
    "term1 = 4*a + 5\n",
    "term2 = a\n",
    "\n",
    "print(term1*term2)\n",
    "print(sym.expand(term1*term2))"
   ]
  },
  {
   "cell_type": "code",
   "execution_count": 9,
   "id": "49c93986",
   "metadata": {},
   "outputs": [
    {
     "data": {
      "text/latex": [
       "$\\displaystyle 4 a^{2} + 5 a$"
      ],
      "text/plain": [
       "<IPython.core.display.Math object>"
      ]
     },
     "metadata": {},
     "output_type": "display_data"
    }
   ],
   "source": [
    "display(Math(sym.latex(sym.expand(term1*term2))))"
   ]
  },
  {
   "cell_type": "code",
   "execution_count": 10,
   "id": "4abd768e",
   "metadata": {},
   "outputs": [
    {
     "data": {
      "text/latex": [
       "$\\displaystyle a \\left(4 a + 5\\right)$"
      ],
      "text/plain": [
       "<IPython.core.display.Math object>"
      ]
     },
     "metadata": {},
     "output_type": "display_data"
    }
   ],
   "source": [
    "display(Math(sym.latex(term1*term2)))"
   ]
  },
  {
   "cell_type": "code",
   "execution_count": 11,
   "id": "10f4993c",
   "metadata": {},
   "outputs": [
    {
     "data": {
      "text/latex": [
       "$\\displaystyle x \\left(- \\frac{5^{x}}{x} + 2 y^{2}\\right)$"
      ],
      "text/plain": [
       "<IPython.core.display.Math object>"
      ]
     },
     "metadata": {},
     "output_type": "display_data"
    },
    {
     "data": {
      "text/latex": [
       "$\\displaystyle - 5^{x} + 2 x y^{2}$"
      ],
      "text/plain": [
       "<IPython.core.display.Math object>"
      ]
     },
     "metadata": {},
     "output_type": "display_data"
    }
   ],
   "source": [
    "#Expanding Terms - multiple variables\n",
    "\n",
    "from sympy.abc import y\n",
    "\n",
    "expr = x*(2*y**2-5**x/x)\n",
    "display(Math(sym.latex(expr)))\n",
    "display(Math(sym.latex(sym.expand(expr))))"
   ]
  },
  {
   "cell_type": "code",
   "execution_count": 12,
   "id": "5dedcca7",
   "metadata": {},
   "outputs": [
    {
     "name": "stdout",
     "output_type": "stream",
     "text": [
      "Variable   Type        Data/Info\n",
      "--------------------------------\n",
      "Math       type        <class 'IPython.core.display.Math'>\n",
      "a          Symbol      a\n",
      "display    function    <function display at 0x000001AB22070F70>\n",
      "expr       Mul         x*(-5**x/x + 2*y**2)\n",
      "sym        module      <module 'sympy' from 'C:\\<...>ges\\\\sympy\\\\__init__.py'>\n",
      "term1      Add         4*a + 5\n",
      "term2      Symbol      a\n",
      "x          Symbol      x\n",
      "y          Symbol      y\n"
     ]
    }
   ],
   "source": [
    "%whos # to check what has been imported\n"
   ]
  },
  {
   "cell_type": "code",
   "execution_count": 16,
   "id": "d9b947ba",
   "metadata": {},
   "outputs": [
    {
     "ename": "ValueError",
     "evalue": "subs accepts either 1 or 2 arguments",
     "output_type": "error",
     "traceback": [
      "\u001b[1;31m---------------------------------------------------------------------------\u001b[0m",
      "\u001b[1;31mValueError\u001b[0m                                Traceback (most recent call last)",
      "Cell \u001b[1;32mIn[16], line 9\u001b[0m\n\u001b[0;32m      7\u001b[0m \u001b[38;5;28;01mfor\u001b[39;00m i \u001b[38;5;129;01min\u001b[39;00m (\u001b[38;5;241m1\u001b[39m,\u001b[38;5;241m4\u001b[39m):\n\u001b[0;32m      8\u001b[0m     \u001b[38;5;28;01mfor\u001b[39;00m j \u001b[38;5;129;01min\u001b[39;00m (\u001b[38;5;241m1\u001b[39m,\u001b[38;5;241m4\u001b[39m):\n\u001b[1;32m----> 9\u001b[0m         \u001b[43mexpr\u001b[49m\u001b[38;5;241;43m.\u001b[39;49m\u001b[43msubs\u001b[49m\u001b[43m(\u001b[49m\u001b[43mx\u001b[49m\u001b[43m,\u001b[49m\u001b[43my\u001b[49m\u001b[43m,\u001b[49m\u001b[43mi\u001b[49m\u001b[43m,\u001b[49m\u001b[43mj\u001b[49m\u001b[43m)\u001b[49m\u001b[38;5;241m.\u001b[39mevalf()\n\u001b[0;32m     10\u001b[0m         \u001b[38;5;28mprint\u001b[39m (x,y,expr\u001b[38;5;241m.\u001b[39msubs(x,y,i,j)\u001b[38;5;241m.\u001b[39mevalf())\n",
      "File \u001b[1;32m~\\AppData\\Local\\anaconda3\\lib\\site-packages\\sympy\\core\\basic.py:936\u001b[0m, in \u001b[0;36mBasic.subs\u001b[1;34m(self, *args, **kwargs)\u001b[0m\n\u001b[0;32m    934\u001b[0m     sequence \u001b[38;5;241m=\u001b[39m [args]\n\u001b[0;32m    935\u001b[0m \u001b[38;5;28;01melse\u001b[39;00m:\n\u001b[1;32m--> 936\u001b[0m     \u001b[38;5;28;01mraise\u001b[39;00m \u001b[38;5;167;01mValueError\u001b[39;00m(\u001b[38;5;124m\"\u001b[39m\u001b[38;5;124msubs accepts either 1 or 2 arguments\u001b[39m\u001b[38;5;124m\"\u001b[39m)\n\u001b[0;32m    938\u001b[0m sequence \u001b[38;5;241m=\u001b[39m \u001b[38;5;28mlist\u001b[39m(sequence)\n\u001b[0;32m    939\u001b[0m \u001b[38;5;28;01mfor\u001b[39;00m i, s \u001b[38;5;129;01min\u001b[39;00m \u001b[38;5;28menumerate\u001b[39m(sequence):\n",
      "\u001b[1;31mValueError\u001b[0m: subs accepts either 1 or 2 arguments"
     ]
    }
   ],
   "source": [
    "#Create a function\n",
    "from sympy.abc import x\n",
    "from sympy.abc import y\n",
    "\n",
    "f = (4+x)*(2-y)\n",
    "\n",
    "for i in (1,4):\n",
    "    for j in (1,4):\n",
    "        expr.subs(x,y,i,j).evalf()\n",
    "        print (x,y,expr.subs(x,y,i,j).evalf())"
   ]
  },
  {
   "cell_type": "code",
   "execution_count": null,
   "id": "a589f442",
   "metadata": {},
   "outputs": [],
   "source": []
  }
 ],
 "metadata": {
  "kernelspec": {
   "display_name": "Python 3 (ipykernel)",
   "language": "python",
   "name": "python3"
  },
  "language_info": {
   "codemirror_mode": {
    "name": "ipython",
    "version": 3
   },
   "file_extension": ".py",
   "mimetype": "text/x-python",
   "name": "python",
   "nbconvert_exporter": "python",
   "pygments_lexer": "ipython3",
   "version": "3.10.9"
  }
 },
 "nbformat": 4,
 "nbformat_minor": 5
}
