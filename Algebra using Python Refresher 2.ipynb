{
 "cells": [
  {
   "cell_type": "code",
   "execution_count": 1,
   "id": "5e395e4f",
   "metadata": {},
   "outputs": [],
   "source": [
    "#### Solving for x\n",
    "# homogenous form : ax + b - c = 0. Many functions require this form\n",
    "\n",
    "import sympy as sym\n",
    "from IPython.display import display,Math"
   ]
  },
  {
   "cell_type": "code",
   "execution_count": 15,
   "id": "bfb55de2",
   "metadata": {},
   "outputs": [
    {
     "data": {
      "text/latex": [
       "$\\displaystyle \\text{ The solution for } 2 x - 5 \\text { is x = }  2.5$"
      ],
      "text/plain": [
       "<IPython.core.display.Math object>"
      ]
     },
     "metadata": {},
     "output_type": "display_data"
    }
   ],
   "source": [
    "#Example 1 - single solution\n",
    "x = sym.symbols('x')\n",
    "\n",
    "expr = 2*x + 4 - 9 # homogenous expression #implicitly its set to 0\n",
    "\n",
    "result = sym.solve(expr)\n",
    "\n",
    "display(Math('\\\\text{ The solution for } %s \\\\text { is x = }  %g'%(sym.latex(expr),result[0])))"
   ]
  },
  {
   "cell_type": "code",
   "execution_count": 24,
   "id": "b2b2af9a",
   "metadata": {},
   "outputs": [
    {
     "name": "stdout",
     "output_type": "stream",
     "text": [
      "solution no #1 is -2\n",
      "solution no #2 is 2\n"
     ]
    }
   ],
   "source": [
    "#Example 2 - multiple solutions\n",
    "x = sym.symbols('x')\n",
    "\n",
    "expr = x**2 - 4\n",
    "\n",
    "result = sym.solve(expr)\n",
    "\n",
    "for i in range(0,len(result)):\n",
    "    print(f'solution no #{i+1} is {result[i]}')"
   ]
  },
  {
   "cell_type": "code",
   "execution_count": 28,
   "id": "e744f04e",
   "metadata": {},
   "outputs": [
    {
     "name": "stdout",
     "output_type": "stream",
     "text": [
      "solution no #1 is (x + 20)/(4*x)\n"
     ]
    }
   ],
   "source": [
    "#Example 3 - multiple variables\n",
    "x = sym.symbols('x')\n",
    "y = sym.symbols('y')\n",
    "\n",
    "expr = x/4 - x*y + 5\n",
    "\n",
    "result = sym.solve(expr,y) ## solve for y in terms of x\n",
    "\n",
    "for i in range(0,len(result)):\n",
    "    print(f'solution no #{i+1} is {result[i]}')\n"
   ]
  },
  {
   "cell_type": "code",
   "execution_count": 6,
   "id": "b0949b56",
   "metadata": {},
   "outputs": [
    {
     "name": "stdout",
     "output_type": "stream",
     "text": [
      "solution no #1 is 1/2 - sqrt(7)/2\n",
      "solution no #2 is 1/2 + sqrt(7)/2\n"
     ]
    }
   ],
   "source": [
    "#Example 4\n",
    "q = sym.symbols('q')\n",
    "\n",
    "expr = 2*q -3/q -2\n",
    "\n",
    "result = sym.solve(expr)\n",
    "\n",
    "for i in range(0,len(result)):\n",
    "    print(f'solution no #{i+1} is {result[i]}')"
   ]
  },
  {
   "cell_type": "code",
   "execution_count": 7,
   "id": "98398646",
   "metadata": {},
   "outputs": [
    {
     "name": "stdout",
     "output_type": "stream",
     "text": [
      "solution no #1 is 1/2 - sqrt(7)/2\n",
      "solution no #2 is 1/2 + sqrt(7)/2\n"
     ]
    },
    {
     "data": {
      "text/latex": [
       "$\\displaystyle q=\\left[ \\frac{1}{2} - \\frac{\\sqrt{7}}{2}, \\  \\frac{1}{2} + \\frac{\\sqrt{7}}{2}\\right]$"
      ],
      "text/plain": [
       "<IPython.core.display.Math object>"
      ]
     },
     "metadata": {},
     "output_type": "display_data"
    }
   ],
   "source": [
    "#Example 5 - using simplify\n",
    "q = sym.symbols('q')\n",
    "\n",
    "expr = 5*q + 1/q + 1 -3*q - 4/q -3\n",
    "\n",
    "sym.simplify(expr)\n",
    "\n",
    "result = sym.solve(expr)\n",
    "\n",
    "for i in range(0,len(result)):\n",
    "    print(f'solution no #{i+1} is {result[i]}')\n",
    "    \n",
    "display(Math('q='+sym.latex(sym.solve(expr,q))))"
   ]
  },
  {
   "cell_type": "code",
   "execution_count": 8,
   "id": "12baa645",
   "metadata": {},
   "outputs": [
    {
     "name": "stdout",
     "output_type": "stream",
     "text": [
      "solution no #1 is CRootOf(2*x**5 + 2*x**4 - 5*x**2 - 4, 0)\n",
      "solution no #2 is CRootOf(2*x**5 + 2*x**4 - 5*x**2 - 4, 1)\n",
      "solution no #3 is CRootOf(2*x**5 + 2*x**4 - 5*x**2 - 4, 2)\n",
      "solution no #4 is CRootOf(2*x**5 + 2*x**4 - 5*x**2 - 4, 3)\n",
      "solution no #5 is CRootOf(2*x**5 + 2*x**4 - 5*x**2 - 4, 4)\n"
     ]
    },
    {
     "data": {
      "text/latex": [
       "$\\displaystyle q=\\left[ \\operatorname{CRootOf} {\\left(2 x^{5} + 2 x^{4} - 5 x^{2} - 4, 0\\right)}, \\  \\operatorname{CRootOf} {\\left(2 x^{5} + 2 x^{4} - 5 x^{2} - 4, 1\\right)}, \\  \\operatorname{CRootOf} {\\left(2 x^{5} + 2 x^{4} - 5 x^{2} - 4, 2\\right)}, \\  \\operatorname{CRootOf} {\\left(2 x^{5} + 2 x^{4} - 5 x^{2} - 4, 3\\right)}, \\  \\operatorname{CRootOf} {\\left(2 x^{5} + 2 x^{4} - 5 x^{2} - 4, 4\\right)}\\right]$"
      ],
      "text/plain": [
       "<IPython.core.display.Math object>"
      ]
     },
     "metadata": {},
     "output_type": "display_data"
    }
   ],
   "source": [
    "#Example 6 - using simplify\n",
    "q = sym.symbols('q')\n",
    "\n",
    "expr = 2*q + 2*q**2 - 5/q - 4/q**3 ##PEMDAS #BODMAS\n",
    "\n",
    "sym.simplify(expr)\n",
    "\n",
    "result = sym.solve(expr)\n",
    "\n",
    "for i in range(0,len(result)):\n",
    "    print(f'solution no #{i+1} is {result[i]}')\n",
    "\n",
    "sym.cancel(expr)\n",
    "\n",
    "display(Math('q='+sym.latex(sym.solve(expr,q))))"
   ]
  },
  {
   "cell_type": "code",
   "execution_count": 6,
   "id": "09c8a63b",
   "metadata": {},
   "outputs": [
    {
     "data": {
      "text/latex": [
       "$\\displaystyle q=\\left[ \\right]$"
      ],
      "text/plain": [
       "<IPython.core.display.Math object>"
      ]
     },
     "metadata": {},
     "output_type": "display_data"
    },
    {
     "data": {
      "text/latex": [
       "$\\displaystyle \\frac{\\sqrt{6}}{2}$"
      ],
      "text/plain": [
       "sqrt(6)/2"
      ]
     },
     "execution_count": 6,
     "metadata": {},
     "output_type": "execute_result"
    }
   ],
   "source": [
    "#Example 7 \n",
    "q = sym.symbols('q')\n",
    "\n",
    "#expr = (3**(1/2) + q*(15**(1/2)))/(2**(1/2) + q*(10**(1/2)))\n",
    "expr = (sym.sqrt(3) + sym.sqrt(15)*q) / (sym.sqrt(2) + sym.sqrt(10)*q)\n",
    "\n",
    "sym.simplify(expr)\n",
    "\n",
    "result = sym.solve(expr)\n",
    "\n",
    "for i in range(0,len(result)):\n",
    "    print(f'solution no #{i+1} is {result[i]}')\n",
    "    \n",
    "#Expanding Terms - method 1\n",
    "\n",
    "x = sym.symbols('x')\n",
    "term1 = 4*x + 5\n",
    "term2 = x\n",
    "\n",
    "print(term1*term2)\n",
    "\n",
    "\n",
    "display(Math('q='+sym.latex(sym.solve(expr,q))))\n",
    "sym.cancel(expr)"
   ]
  },
  {
   "cell_type": "code",
   "execution_count": 7,
   "id": "55923a35",
   "metadata": {},
   "outputs": [
    {
     "data": {
      "text/latex": [
       "$\\displaystyle 1.22474487139159$"
      ],
      "text/plain": [
       "1.22474487139159"
      ]
     },
     "execution_count": 7,
     "metadata": {},
     "output_type": "execute_result"
    }
   ],
   "source": [
    "expr.subs(q,10).evalf() # set q = 10 and evaluate the expr"
   ]
  },
  {
   "cell_type": "code",
   "execution_count": 3,
   "id": "3f0db909",
   "metadata": {},
   "outputs": [
    {
     "name": "stdout",
     "output_type": "stream",
     "text": [
      "x*(4*x + 5)\n"
     ]
    }
   ],
   "source": [
    "#Expanding Terms - method 1 using sym.symbols\n",
    "\n",
    "x = sym.symbols('x')\n",
    "term1 = 4*x + 5\n",
    "term2 = x\n",
    "\n",
    "print(term1*term2)\n"
   ]
  },
  {
   "cell_type": "code",
   "execution_count": 6,
   "id": "e24b4390",
   "metadata": {},
   "outputs": [
    {
     "name": "stdout",
     "output_type": "stream",
     "text": [
      "a*(4*a + 5)\n",
      "4*a**2 + 5*a\n"
     ]
    }
   ],
   "source": [
    "#Expanding Terms - method 2 using sympy.abc\n",
    "\n",
    "from sympy.abc import a #only works for a single letter\n",
    "\n",
    "term1 = 4*a + 5\n",
    "term2 = a\n",
    "\n",
    "print(term1*term2)\n",
    "print(sym.expand(term1*term2))"
   ]
  },
  {
   "cell_type": "code",
   "execution_count": 9,
   "id": "49c93986",
   "metadata": {},
   "outputs": [
    {
     "data": {
      "text/latex": [
       "$\\displaystyle 4 a^{2} + 5 a$"
      ],
      "text/plain": [
       "<IPython.core.display.Math object>"
      ]
     },
     "metadata": {},
     "output_type": "display_data"
    }
   ],
   "source": [
    "display(Math(sym.latex(sym.expand(term1*term2))))"
   ]
  },
  {
   "cell_type": "code",
   "execution_count": 10,
   "id": "4abd768e",
   "metadata": {},
   "outputs": [
    {
     "data": {
      "text/latex": [
       "$\\displaystyle a \\left(4 a + 5\\right)$"
      ],
      "text/plain": [
       "<IPython.core.display.Math object>"
      ]
     },
     "metadata": {},
     "output_type": "display_data"
    }
   ],
   "source": [
    "display(Math(sym.latex(term1*term2)))"
   ]
  },
  {
   "cell_type": "code",
   "execution_count": 11,
   "id": "10f4993c",
   "metadata": {},
   "outputs": [
    {
     "data": {
      "text/latex": [
       "$\\displaystyle x \\left(- \\frac{5^{x}}{x} + 2 y^{2}\\right)$"
      ],
      "text/plain": [
       "<IPython.core.display.Math object>"
      ]
     },
     "metadata": {},
     "output_type": "display_data"
    },
    {
     "data": {
      "text/latex": [
       "$\\displaystyle - 5^{x} + 2 x y^{2}$"
      ],
      "text/plain": [
       "<IPython.core.display.Math object>"
      ]
     },
     "metadata": {},
     "output_type": "display_data"
    }
   ],
   "source": [
    "#Expanding Terms - multiple variables\n",
    "\n",
    "from sympy.abc import y\n",
    "\n",
    "expr = x*(2*y**2-5**x/x)\n",
    "display(Math(sym.latex(expr)))\n",
    "display(Math(sym.latex(sym.expand(expr))))"
   ]
  },
  {
   "cell_type": "code",
   "execution_count": 12,
   "id": "5dedcca7",
   "metadata": {},
   "outputs": [
    {
     "name": "stdout",
     "output_type": "stream",
     "text": [
      "Variable   Type        Data/Info\n",
      "--------------------------------\n",
      "Math       type        <class 'IPython.core.display.Math'>\n",
      "a          Symbol      a\n",
      "display    function    <function display at 0x000001AB22070F70>\n",
      "expr       Mul         x*(-5**x/x + 2*y**2)\n",
      "sym        module      <module 'sympy' from 'C:\\<...>ges\\\\sympy\\\\__init__.py'>\n",
      "term1      Add         4*a + 5\n",
      "term2      Symbol      a\n",
      "x          Symbol      x\n",
      "y          Symbol      y\n"
     ]
    }
   ],
   "source": [
    "%whos # to check what has been imported\n"
   ]
  },
  {
   "cell_type": "code",
   "execution_count": 9,
   "id": "d9b947ba",
   "metadata": {},
   "outputs": [
    {
     "name": "stdout",
     "output_type": "stream",
     "text": [
      "x = 1, y = 1, fxy = 5\n",
      "x = 1, y = 2, fxy = 0\n",
      "x = 1, y = 3, fxy = -5\n",
      "x = 2, y = 1, fxy = 6\n",
      "x = 2, y = 2, fxy = 0\n",
      "x = 2, y = 3, fxy = -6\n",
      "x = 3, y = 1, fxy = 7\n",
      "x = 3, y = 2, fxy = 0\n",
      "x = 3, y = 3, fxy = -7\n"
     ]
    }
   ],
   "source": [
    "#Create a function\n",
    "from sympy.abc import x,y\n",
    "\n",
    "fxy = (4+x)*(2-y)\n",
    "\n",
    "fxy.subs({x:1,y:1})\n",
    "\n",
    "for i in range(1,4):\n",
    "    for j in range(1,4):\n",
    "        print(f\"x = {i}, y = {j}, fxy = {fxy.subs({x:i,y:j})}\")"
   ]
  },
  {
   "cell_type": "code",
   "execution_count": 15,
   "id": "a589f442",
   "metadata": {},
   "outputs": [
    {
     "name": "stdout",
     "output_type": "stream",
     "text": [
      "When x = 0 and y = 0 then f(x,y) = 8\n",
      "When x = 0 and y = 1 then f(x,y) = 4\n",
      "When x = 0 and y = 2 then f(x,y) = 0\n",
      "When x = 1 and y = 0 then f(x,y) = 10\n",
      "When x = 1 and y = 1 then f(x,y) = 5\n",
      "When x = 1 and y = 2 then f(x,y) = 0\n",
      "When x = 2 and y = 0 then f(x,y) = 12\n",
      "When x = 2 and y = 1 then f(x,y) = 6\n",
      "When x = 2 and y = 2 then f(x,y) = 0\n"
     ]
    }
   ],
   "source": [
    "#Create a function\n",
    "from sympy.abc import x,y\n",
    "\n",
    "fxy = (4+x)*(2-y)\n",
    "\n",
    "numrange = range(0,3)\n",
    "\n",
    "for xi in numrange:\n",
    "    for yi in numrange:\n",
    "        print(\"When x = %g and y = %g then f(x,y) = %g\" %(xi,yi,fxy.subs({x:xi,y:yi})))"
   ]
  },
  {
   "cell_type": "code",
   "execution_count": 23,
   "id": "4a71dfdc",
   "metadata": {},
   "outputs": [],
   "source": [
    "# Creating Matrices\n",
    "#Matrix is an ordered set of numbers\n",
    "# A lot of digital applications require good knowledge of Matrices and linear algebra\n",
    "\n",
    "import numpy as np\n",
    "import sympy as sym\n",
    "from IPython.display import display,Math"
   ]
  },
  {
   "cell_type": "code",
   "execution_count": 19,
   "id": "6cc081ef",
   "metadata": {},
   "outputs": [
    {
     "data": {
      "text/plain": [
       "list"
      ]
     },
     "execution_count": 19,
     "metadata": {},
     "output_type": "execute_result"
    }
   ],
   "source": [
    "A = [[1,2],[3,4]]\n",
    "type(A)"
   ]
  },
  {
   "cell_type": "code",
   "execution_count": 28,
   "id": "9a8657ae",
   "metadata": {},
   "outputs": [
    {
     "data": {
      "text/plain": [
       "numpy.ndarray"
      ]
     },
     "execution_count": 28,
     "metadata": {},
     "output_type": "execute_result"
    }
   ],
   "source": [
    "A = np.array([[1,2],[3,4]] )  #matrix defined as an n-dimensional array\n",
    "type(A)\n"
   ]
  },
  {
   "cell_type": "code",
   "execution_count": 30,
   "id": "f7a58dc1",
   "metadata": {},
   "outputs": [
    {
     "data": {
      "text/latex": [
       "$\\displaystyle \\left[\\begin{matrix}1 & 2\\\\3 & 4\\end{matrix}\\right]$"
      ],
      "text/plain": [
       "<IPython.core.display.Math object>"
      ]
     },
     "metadata": {},
     "output_type": "display_data"
    }
   ],
   "source": [
    "display(Math(sym.latex(sym.sympify(A)))) #sympify converts numpy array to sympy equivalent"
   ]
  },
  {
   "cell_type": "code",
   "execution_count": 40,
   "id": "e11c6158",
   "metadata": {},
   "outputs": [
    {
     "data": {
      "text/plain": [
       "array([[ 1., -1.,  1., -1.],\n",
       "       [-1.,  1., -1.,  1.],\n",
       "       [ 1., -1.,  1., -1.],\n",
       "       [-1.,  1., -1.,  1.]])"
      ]
     },
     "execution_count": 40,
     "metadata": {},
     "output_type": "execute_result"
    }
   ],
   "source": [
    "#Matrix Operations\n",
    "\n",
    "B = np.zeros([2,3]) #Creating matrix of all Zeroes #2 rows and 3 columns\n",
    "B[0,1]=2 #Modifying the elements of a Matrix\n",
    "\n",
    "n=4\n",
    "numrange = range(0,4)\n",
    "B = np.zeros([n,n])\n",
    "\n",
    "for rowi in numrange:\n",
    "    for coli in numrange:\n",
    "        B[rowi,coli] = (-1)**(rowi+coli)\n",
    "B"
   ]
  },
  {
   "cell_type": "code",
   "execution_count": 49,
   "id": "ee3f34db",
   "metadata": {},
   "outputs": [
    {
     "data": {
      "text/latex": [
       "$\\displaystyle \\left[\\begin{matrix}8.0 & 4.0 & 0.0 & -4.0\\\\10.0 & 5.0 & 0.0 & -5.0\\\\12.0 & 6.0 & 0.0 & -6.0\\\\14.0 & 7.0 & 0.0 & -7.0\\end{matrix}\\right]$"
      ],
      "text/plain": [
       "<IPython.core.display.Math object>"
      ]
     },
     "metadata": {},
     "output_type": "display_data"
    }
   ],
   "source": [
    "## Evaluate a function and store its values in a matrix\n",
    "\n",
    "#Import Packages\n",
    "import numpy as np\n",
    "import sympy as sym\n",
    "from IPython.display import display,Math\n",
    "from sympy.abc import x,y\n",
    "\n",
    "#create function\n",
    "fxy = (4+x)*(2-y)\n",
    "\n",
    "numrange = range(0,4)\n",
    "\n",
    "#initialize matrix\n",
    "A=np.zeros([len(numrange),len(numrange)])\n",
    "\n",
    "for row in numrange:\n",
    "    for col in numrange:\n",
    "        A[row,col] = fxy.subs({x:row,y:col})\n",
    "        \n",
    "display(Math(sym.latex(sym.sympify(A))))"
   ]
  },
  {
   "cell_type": "code",
   "execution_count": null,
   "id": "af27977e",
   "metadata": {},
   "outputs": [],
   "source": []
  }
 ],
 "metadata": {
  "kernelspec": {
   "display_name": "Python 3 (ipykernel)",
   "language": "python",
   "name": "python3"
  },
  "language_info": {
   "codemirror_mode": {
    "name": "ipython",
    "version": 3
   },
   "file_extension": ".py",
   "mimetype": "text/x-python",
   "name": "python",
   "nbconvert_exporter": "python",
   "pygments_lexer": "ipython3",
   "version": "3.10.9"
  }
 },
 "nbformat": 4,
 "nbformat_minor": 5
}
