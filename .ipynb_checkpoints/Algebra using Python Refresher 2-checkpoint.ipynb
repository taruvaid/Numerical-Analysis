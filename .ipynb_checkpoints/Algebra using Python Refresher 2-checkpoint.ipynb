{
 "cells": [
  {
   "cell_type": "code",
   "execution_count": 14,
   "id": "5e395e4f",
   "metadata": {},
   "outputs": [],
   "source": [
    "#### Solving for x\n",
    "# homogenous form : ax + b - c = 0. Many functions require this form\n",
    "\n",
    "import sympy as sym\n",
    "from IPython.display import display,Math"
   ]
  },
  {
   "cell_type": "code",
   "execution_count": 15,
   "id": "bfb55de2",
   "metadata": {},
   "outputs": [
    {
     "data": {
      "text/latex": [
       "$\\displaystyle \\text{ The solution for } 2 x - 5 \\text { is x = }  2.5$"
      ],
      "text/plain": [
       "<IPython.core.display.Math object>"
      ]
     },
     "metadata": {},
     "output_type": "display_data"
    }
   ],
   "source": [
    "#Example 1 - single solution\n",
    "x = sym.symbols('x')\n",
    "\n",
    "expr = 2*x + 4 - 9 # homogenous expression #implicitly its set to 0\n",
    "\n",
    "result = sym.solve(expr)\n",
    "\n",
    "display(Math('\\\\text{ The solution for } %s \\\\text { is x = }  %g'%(sym.latex(expr),result[0])))"
   ]
  },
  {
   "cell_type": "code",
   "execution_count": 24,
   "id": "b2b2af9a",
   "metadata": {},
   "outputs": [
    {
     "name": "stdout",
     "output_type": "stream",
     "text": [
      "solution no #1 is -2\n",
      "solution no #2 is 2\n"
     ]
    }
   ],
   "source": [
    "#Example 2 - multiple solutions\n",
    "x = sym.symbols('x')\n",
    "\n",
    "expr = x**2 - 4\n",
    "\n",
    "result = sym.solve(expr)\n",
    "\n",
    "for i in range(0,len(result)):\n",
    "    print(f'solution no #{i+1} is {result[i]}')"
   ]
  },
  {
   "cell_type": "code",
   "execution_count": 28,
   "id": "e744f04e",
   "metadata": {},
   "outputs": [
    {
     "name": "stdout",
     "output_type": "stream",
     "text": [
      "solution no #1 is (x + 20)/(4*x)\n"
     ]
    }
   ],
   "source": [
    "#Example 3 - multiple variables\n",
    "x = sym.symbols('x')\n",
    "y = sym.symbols('y')\n",
    "\n",
    "expr = x/4 - x*y + 5\n",
    "\n",
    "result = sym.solve(expr,y) ## solve for y in terms of x\n",
    "\n",
    "for i in range(0,len(result)):\n",
    "    print(f'solution no #{i+1} is {result[i]}')\n"
   ]
  },
  {
   "cell_type": "code",
   "execution_count": null,
   "id": "b0949b56",
   "metadata": {},
   "outputs": [],
   "source": []
  }
 ],
 "metadata": {
  "kernelspec": {
   "display_name": "Python 3 (ipykernel)",
   "language": "python",
   "name": "python3"
  },
  "language_info": {
   "codemirror_mode": {
    "name": "ipython",
    "version": 3
   },
   "file_extension": ".py",
   "mimetype": "text/x-python",
   "name": "python",
   "nbconvert_exporter": "python",
   "pygments_lexer": "ipython3",
   "version": "3.10.9"
  }
 },
 "nbformat": 4,
 "nbformat_minor": 5
}
